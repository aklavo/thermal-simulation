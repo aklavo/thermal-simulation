{
 "cells": [
  {
   "cell_type": "markdown",
   "metadata": {},
   "source": [
    "# Report Workspace\n",
    "This notebook is used to conduct analysis on the simulation result and produce report plots."
   ]
  },
  {
   "cell_type": "markdown",
   "metadata": {},
   "source": [
    "### Converstion that prompted this work\n",
    "**Majid:**  \n",
    "It would be great if [you] could put together a report and output plots to show data analysis skill.\n",
    "\n",
    "**Me:**  \n",
    "What should the audience of the report be? Is the goal of the data analysis to find deficiencies/inaccuracies in the model, or to pretend as though this is real building data and provide insight into operation, energy usage, system parameters (temps, flows)? What format should the deliverable be, a static PDF like report,  a dynamic dashboard? Are there specific tools or software packages he'd like to see showcased? \n",
    "  \n",
    "**Majid:**  \n",
    "1.The audience is the Digital Twin and Computational Physics team  \n",
    "2.It is an open question. It could be plotting tank temperature and weather data and providing discussion on how they are related. Or perfoming sensitivity analysis on parameters of the system.    \n",
    "3/4. No specific preference. PDF would be enough for report. But if [you would] like, adding a dynamic dashboard will be useful.\""
   ]
  },
  {
   "cell_type": "markdown",
   "metadata": {},
   "source": []
  }
 ],
 "metadata": {
  "language_info": {
   "name": "python"
  }
 },
 "nbformat": 4,
 "nbformat_minor": 2
}
